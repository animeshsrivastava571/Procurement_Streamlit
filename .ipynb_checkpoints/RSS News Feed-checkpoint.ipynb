{
 "cells": [
  {
   "cell_type": "code",
   "execution_count": 84,
   "metadata": {
    "ExecuteTime": {
     "end_time": "2020-06-30T14:37:17.883588Z",
     "start_time": "2020-06-30T14:37:17.874637Z"
    }
   },
   "outputs": [],
   "source": [
    "from bs4 import BeautifulSoup\n",
    "import requests\n",
    "import pandas as pd"
   ]
  },
  {
   "cell_type": "code",
   "execution_count": 85,
   "metadata": {
    "ExecuteTime": {
     "end_time": "2020-06-30T14:37:26.262429Z",
     "start_time": "2020-06-30T14:37:26.249701Z"
    }
   },
   "outputs": [],
   "source": [
    "def news_covid_RSS(url):\n",
    "    resp = requests.get(url)\n",
    "    if (resp.status_code==200):\n",
    "        resp_text = resp.text\n",
    "        soup = BeautifulSoup(resp_text,'xml')\n",
    "        items = soup.findAll('item')\n",
    "        lst_link=[]\n",
    "        lst_des=[]\n",
    "        for item in items:\n",
    "            str1=item.description.text\n",
    "            soup1 = BeautifulSoup(str1,'xml')\n",
    "            lst_link.append(soup1.a['href'])\n",
    "            lst_des.append(soup1.text)\n",
    "        df = pd.DataFrame({'news_link':lst_link,'news_feed':lst_des})\n",
    "        df.to_csv('News_Feed_Corona.csv',index=None)\n",
    "        print(df)\n",
    "    return 0\n",
    "            "
   ]
  },
  {
   "cell_type": "code",
   "execution_count": 87,
   "metadata": {
    "ExecuteTime": {
     "end_time": "2020-06-30T14:54:57.624042Z",
     "start_time": "2020-06-30T14:54:56.647025Z"
    }
   },
   "outputs": [
    {
     "name": "stdout",
     "output_type": "stream",
     "text": [
      "                                            news_link  \\\n",
      "0   https://www.fda.gov/news-events/press-announce...   \n",
      "1   https://www.npr.org/sections/health-shots/2020...   \n",
      "2   https://www.nationalgeographic.com/science/202...   \n",
      "3   https://www.npr.org/sections/coronavirus-live-...   \n",
      "4   https://www.thelancet.com/journals/landig/arti...   \n",
      "..                                                ...   \n",
      "95  https://www.nature.com/articles/d41586-020-019...   \n",
      "96  https://www.kingcounty.gov/depts/health/news/2...   \n",
      "97  https://www.statnews.com/2020/06/26/from-nose-...   \n",
      "98  https://www.fda.gov/news-events/press-announce...   \n",
      "99  https://www.fda.gov/news-events/press-announce...   \n",
      "\n",
      "                                            news_feed  \n",
      "0   Coronavirus (COVID-19) Update: Daily Roundup J...  \n",
      "1   She Had COVID-19 Symptoms And Wanted To Get Te...  \n",
      "2   Here’s how we’ll know when a COVID-19 vaccine ...  \n",
      "3   WHO Chief On COVID-19 Pandemic: 'The Worst Is ...  \n",
      "4   Applications of digital technology in COVID-19...  \n",
      "..                                                ...  \n",
      "95  Quantum computing: 'the best data we have ever...  \n",
      "96  Increasing cases of COVID-19 in King County hi...  \n",
      "97  Not just the lungs: Covid-19 attacks like no o...  \n",
      "98  Coronavirus (COVID-19) Update: Daily Roundup J...  \n",
      "99  Coronavirus (COVID-19) Update: Daily Roundup J...  \n",
      "\n",
      "[100 rows x 2 columns]\n"
     ]
    }
   ],
   "source": [
    "if __name__ == \"__main__\":\n",
    "    url = 'http://news.google.com/news?q=covid-19&hl=en-US&sort=date&gl=US&num=100&output=rss'\n",
    "    news_covid_RSS(url)\n",
    "    "
   ]
  },
  {
   "cell_type": "code",
   "execution_count": null,
   "metadata": {},
   "outputs": [],
   "source": []
  }
 ],
 "metadata": {
  "kernelspec": {
   "display_name": "Python 3",
   "language": "python",
   "name": "python3"
  },
  "language_info": {
   "codemirror_mode": {
    "name": "ipython",
    "version": 3
   },
   "file_extension": ".py",
   "mimetype": "text/x-python",
   "name": "python",
   "nbconvert_exporter": "python",
   "pygments_lexer": "ipython3",
   "version": "3.6.5"
  }
 },
 "nbformat": 4,
 "nbformat_minor": 2
}
