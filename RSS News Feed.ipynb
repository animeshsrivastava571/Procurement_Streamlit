{
 "cells": [
  {
   "cell_type": "code",
   "execution_count": 72,
   "metadata": {
    "ExecuteTime": {
     "end_time": "2020-06-30T14:03:35.666555Z",
     "start_time": "2020-06-30T14:03:07.008733Z"
    }
   },
   "outputs": [],
   "source": [
    "from bs4 import BeautifulSoup\n",
    "import requests\n",
    "import pandas as pd"
   ]
  },
  {
   "cell_type": "code",
   "execution_count": 15,
   "metadata": {
    "ExecuteTime": {
     "end_time": "2020-06-30T13:31:07.175350Z",
     "start_time": "2020-06-30T13:31:07.166891Z"
    }
   },
   "outputs": [],
   "source": [
    "url = 'http://news.google.com/news?q=covid-19&hl=en-US&sort=date&gl=US&num=100&output=rss'"
   ]
  },
  {
   "cell_type": "code",
   "execution_count": 75,
   "metadata": {
    "ExecuteTime": {
     "end_time": "2020-06-30T14:04:40.669680Z",
     "start_time": "2020-06-30T14:04:40.656121Z"
    }
   },
   "outputs": [],
   "source": [
    "def news_covid_RSS(url):\n",
    "    resp = requests.get(url)\n",
    "    if (resp.status_code==200):\n",
    "        resp_text = resp.text\n",
    "        soup = BeautifulSoup(resp_text,'xml')\n",
    "        items = soup.findAll('item')\n",
    "        lst_link=[]\n",
    "        lst_des=[]\n",
    "        for item in items:\n",
    "            str1=item.description.text\n",
    "            soup1 = BeautifulSoup(str1,'xml')\n",
    "            lst_link.append(soup1.a['href'])\n",
    "            lst_des.append(soup1.text)\n",
    "        df = pd.DataFrame({'news_link':lst_link,'news_feed':lst_des})\n",
    "        df.to_csv('News_Feed_Corona.csv',index=None)\n",
    "        print(df)\n",
    "    return 0\n",
    "            "
   ]
  },
  {
   "cell_type": "code",
   "execution_count": 76,
   "metadata": {
    "ExecuteTime": {
     "end_time": "2020-06-30T14:04:43.973704Z",
     "start_time": "2020-06-30T14:04:42.423115Z"
    }
   },
   "outputs": [
    {
     "name": "stdout",
     "output_type": "stream",
     "text": [
      "                                            news_feed  \\\n",
      "0   Coronavirus (COVID-19) Update: Daily Roundup J...   \n",
      "1   'We are getting clobbered': Six months into CO...   \n",
      "2   US hits 2.5 million COVID-19 cases as virus su...   \n",
      "3   She Had COVID-19 Symptoms And Wanted To Get Te...   \n",
      "4   Applications of digital technology in COVID-19...   \n",
      "..                                                ...   \n",
      "95  Increasing cases of COVID-19 in King County hi...   \n",
      "96  Cumberland County Jail inmate tests positive f...   \n",
      "97               COVID-19 exposure at Hannibal church   \n",
      "98  Some COVID-19 patients aren't getting better. ...   \n",
      "99  Not just the lungs: Covid-19 attacks like no o...   \n",
      "\n",
      "                                            news_link  \n",
      "0   https://www.fda.gov/news-events/press-announce...  \n",
      "1   https://www.nbcnews.com/health/health-news/we-...  \n",
      "2   https://www.cidrap.umn.edu/news-perspective/20...  \n",
      "3   https://www.npr.org/sections/health-shots/2020...  \n",
      "4   https://www.thelancet.com/journals/landig/arti...  \n",
      "..                                                ...  \n",
      "95  https://www.kingcounty.gov/depts/health/news/2...  \n",
      "96  https://www.pressherald.com/2020/06/30/cumberl...  \n",
      "97  https://wgem.com/2020/06/29/covid-19-exposure-...  \n",
      "98  https://www.nbcnews.com/health/health-news/som...  \n",
      "99  https://www.statnews.com/2020/06/26/from-nose-...  \n",
      "\n",
      "[100 rows x 2 columns]\n"
     ]
    },
    {
     "data": {
      "text/plain": [
       "0"
      ]
     },
     "execution_count": 76,
     "metadata": {},
     "output_type": "execute_result"
    }
   ],
   "source": [
    "news_covid_RSS(url)"
   ]
  }
 ],
 "metadata": {
  "kernelspec": {
   "display_name": "Python 3",
   "language": "python",
   "name": "python3"
  },
  "language_info": {
   "codemirror_mode": {
    "name": "ipython",
    "version": 3
   },
   "file_extension": ".py",
   "mimetype": "text/x-python",
   "name": "python",
   "nbconvert_exporter": "python",
   "pygments_lexer": "ipython3",
   "version": "3.6.5"
  }
 },
 "nbformat": 4,
 "nbformat_minor": 2
}
